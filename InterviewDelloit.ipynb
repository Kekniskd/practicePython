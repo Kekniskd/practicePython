{
 "cells": [
  {
   "cell_type": "markdown",
   "id": "939e2c87",
   "metadata": {},
   "source": [
    "1) How can we generate any random string/integer\n",
    "2) How can we check if the string/integer generated in unique every time or not\n",
    "3) Projects you worked on\n",
    "4) Any problem faced in memory management\n",
    "5) Ignore case in python\n",
    "6) What is pickling process\n",
    "7) If given any string how can we check if that string is present in any other string. optimal approach for that\n",
    "8) Where can we use OOP concepts\n",
    "9) Where can we use process concepts\n",
    "10) Any middleware you have worked on for authentication or like that\n",
    "11) How can we get unique value in data through pandas\n",
    "12) Garbage collection\n",
    "13) "
   ]
  }
 ],
 "metadata": {
  "kernelspec": {
   "display_name": "Python 3 (ipykernel)",
   "language": "python",
   "name": "python3"
  },
  "language_info": {
   "codemirror_mode": {
    "name": "ipython",
    "version": 3
   },
   "file_extension": ".py",
   "mimetype": "text/x-python",
   "name": "python",
   "nbconvert_exporter": "python",
   "pygments_lexer": "ipython3",
   "version": "3.9.7"
  }
 },
 "nbformat": 4,
 "nbformat_minor": 5
}
